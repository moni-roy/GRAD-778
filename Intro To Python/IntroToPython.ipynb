{
  "nbformat": 4,
  "nbformat_minor": 0,
  "metadata": {
    "colab": {
      "name": "IntroToPython_778.ipynb",
      "provenance": [],
      "collapsed_sections": [],
      "include_colab_link": true
    },
    "kernelspec": {
      "name": "python3",
      "display_name": "Python 3"
    },
    "language_info": {
      "name": "python"
    }
  },
  "cells": [
    {
      "cell_type": "markdown",
      "metadata": {
        "id": "view-in-github",
        "colab_type": "text"
      },
      "source": [
        "<a href=\"https://colab.research.google.com/github/moni-roy/GRAD-778/blob/main/IntroToPython/IntroToPython.ipynb\" target=\"_parent\"><img src=\"https://colab.research.google.com/assets/colab-badge.svg\" alt=\"Open In Colab\"/></a>"
      ]
    },
    {
      "cell_type": "code",
      "metadata": {
        "id": "vSKRsFOm2EFB"
      },
      "source": [
        "print(\"Hello World\")"
      ],
      "execution_count": null,
      "outputs": []
    },
    {
      "cell_type": "code",
      "metadata": {
        "id": "m-ImJhtp4xgr"
      },
      "source": [
        "import os\n",
        "cwd = os.getcwd()\n",
        "print(cwd)"
      ],
      "execution_count": null,
      "outputs": []
    },
    {
      "cell_type": "code",
      "metadata": {
        "id": "utKNmSDT6qGe"
      },
      "source": [
        "# variables and assignments\n",
        "print(\"Hello\") # Print Hello\n",
        "\n",
        "my_var = 2\n",
        "print(my_var)\n",
        "my_var = \"Saturday\"\n",
        "print(my_var)\n",
        "\n",
        "class_day = \"Saturday\"\n",
        "attendance = 11\n",
        "print(\"Class is on\", class_day, \"and there are\", attendance, \"people in attendance\")\n",
        "\n",
        "x = 2\n",
        "X = 5\n",
        "print(x, X)\n",
        "\n",
        "a, b, c = 5, \"Hello\", True\n",
        "print(a,b,c)"
      ],
      "execution_count": null,
      "outputs": []
    },
    {
      "cell_type": "code",
      "metadata": {
        "id": "f-LL_l8l_G6f"
      },
      "source": [
        "string_var = 'Hello'\n",
        "string_var2 = \"Hello\"\n",
        "print(string_var, string_var2)\n",
        "\n",
        "import urllib.request\n",
        "from bs4 import BeautifulSoup\n",
        "\n",
        "peak_page = \"https://www.peakbagger.com/peak.aspx?pid=4157\"\n",
        "page = urllib.request.urlopen(peak_page)\n",
        "print(page)\n",
        "\n",
        "soup = BeautifulSoup(page, \"html.parser\")\n",
        "find_elev = soup.find(\"h2\")\n",
        "find_name = soup.find(\"h1\")\n",
        "\n",
        "print(find_elev)\n",
        "elev_value = find_elev.text.strip()\n",
        "print(elev_value)\n",
        "\n",
        "name_string = find_name.text.strip()\n",
        "\n",
        "print(elev_value)\n",
        "print(name_string)\n",
        "\n",
        "string_list = elev_value.split() # seperate a string into a list of words based on spaces\n",
        "print(string_list)\n",
        "print(string_list[1])\n",
        "\n",
        "string_list = elev_value.split(',')\n",
        "print(string_list)\n",
        "\n",
        "students = 11\n",
        "print(\"This class has\",students,\"students in it.\")\n",
        "\n",
        "# using format characters to print\n",
        "print(\"This class is on %s and has %d students in it\" %(\"Saturdays\", students))\n"
      ],
      "execution_count": null,
      "outputs": []
    },
    {
      "cell_type": "code",
      "metadata": {
        "id": "G7CYsuRaFuif"
      },
      "source": [
        "a = 5+11**2/(3*5)\n",
        "print(a)\n",
        "\n",
        "reminder = 20 % 3 # modulo\n",
        "print(reminder)\n",
        "\n",
        "print(11**2%15)\n",
        "\n",
        "print(type(a))\n",
        "a = \"hello\"\n",
        "print(type(a))\n",
        "\n",
        "x = 5\n",
        "print(x*10)\n",
        "print(float(x)*10)"
      ],
      "execution_count": null,
      "outputs": []
    },
    {
      "cell_type": "code",
      "metadata": {
        "id": "m54kc2LBI_u9"
      },
      "source": [
        "print(range(5))\n",
        "for i in range(10):\n",
        "  print(i, \"Hello\")\n",
        "\n",
        "for x in [5,10,15,20]:\n",
        "  print(x)\n",
        "\n",
        "for x in \"Hello\":\n",
        "  print(x)\n",
        "\n",
        "#while loops\n",
        "index = 0\n",
        "while index < 10:\n",
        "  print(index)\n",
        "  index = index + 1\n",
        "\n",
        "string_list = [\"Monday\", \"Tuesday\"]\n",
        "for day in string_list:\n",
        "  print(day)"
      ],
      "execution_count": null,
      "outputs": []
    },
    {
      "cell_type": "code",
      "metadata": {
        "id": "NusoB1n3MbXI"
      },
      "source": [
        "# conditionals!\n",
        "X = True\n",
        "Y = False\n",
        "if (X):\n",
        "  print(\"X is True\")\n",
        "else:\n",
        "  print(\"X is False\")\n",
        "\n",
        "x = int(input(\"Enter your favorite number:\"))\n",
        "if x < 10:\n",
        "  print(\"Small\")\n",
        "elif x == 17:\n",
        "  print(\"Exception\")\n",
        "elif x < 20:\n",
        "  print(\"You're on your way...\")\n",
        "else:\n",
        "  print(\"That's a good number\")"
      ],
      "execution_count": null,
      "outputs": []
    },
    {
      "cell_type": "code",
      "metadata": {
        "id": "mYohURkSMteT"
      },
      "source": [
        "# Functions\n",
        "def getMean(x):\n",
        "  return sum(x)/len(x)\n",
        "\n",
        "x = [10, 15, 3, 4, 11, 15]\n",
        "mean_x = getMean(x)\n",
        "print(mean_x)\n",
        "\n",
        "import math\n",
        "def getSD(x):\n",
        "  mean_x = getMean(x)\n",
        "  eval_x = []\n",
        "  for i in x:\n",
        "    xi = (i - mean_x)**2\n",
        "    eval_x.append(xi)\n",
        "  z = math.sqrt(sum(eval_x)/len(eval_x))\n",
        "  return z\n",
        "\n",
        "print(getSD(x))"
      ],
      "execution_count": null,
      "outputs": []
    },
    {
      "cell_type": "code",
      "metadata": {
        "id": "CpZCIB2yRcKW"
      },
      "source": [
        "# List !!\n",
        "test_list = [1, 2, 3, 4, 5]\n",
        "print(test_list)\n",
        "print(test_list[2])\n",
        "test_list[2] = 10\n",
        "print(test_list)\n",
        "\n",
        "test_list1 = [\"a\", 5, 4.5, True]\n",
        "print(test_list1)\n",
        "\n",
        "test_list2 = [\"b\", 15]\n",
        "test_list3 = test_list1 + test_list2\n",
        "print(test_list3)\n",
        "\n",
        "# creating list\n",
        "x = []\n",
        "y = list()\n",
        "print(x, y)\n",
        "\n",
        "# append\n",
        "x.append(\"hello\")\n",
        "print(x)\n",
        "\n",
        "y = [1, 2, 3, 4, 5]\n",
        "print(len(y))\n",
        "print(max(y))\n",
        "print(min(y))\n",
        "print(sum(y))\n",
        "if 4 in y:\n",
        "  print(\"Yes, 4 is in y\")\n",
        "\n",
        "if \"hello\" in x:\n",
        "  print(\"Yes, hello is in x\")\n",
        "  \n",
        "if \"Hello\" in x:\n",
        "  print(\"Yes, Hello is in x\")\n",
        "  "
      ],
      "execution_count": null,
      "outputs": []
    },
    {
      "cell_type": "code",
      "metadata": {
        "id": "Zdh_1F7SV3jJ"
      },
      "source": [
        "# Tuples!\n",
        "\n",
        "x  = (1, 2, 3, 4, 5)\n",
        "print(x)\n",
        "print(x[1])\n",
        "print(x.index(4))\n",
        "y = list(x)\n",
        "print(y)\n",
        "z = set(y)\n",
        "print(z)"
      ],
      "execution_count": null,
      "outputs": []
    },
    {
      "cell_type": "code",
      "metadata": {
        "id": "vXGVE3NFWB5E"
      },
      "source": [
        "# Dictionaries\n",
        "student_data = {}\n",
        "\n",
        "student_data[\"Kelly\"] = [90, 87, 42]\n",
        "student_data[\"Carson\"] = [56, 67, 76]\n",
        "student_data[\"Morgan\"] = [80, 83, 82]\n",
        "\n",
        "student_data[\"Akshay\"] = [80, 95, 99, 92]\n",
        "student_data[\"Emily\"] = {}\n",
        "student_data[\"Emily\"][\"demographic\"] = [\"female\", 30, \"US\"]\n",
        "student_data[\"Emily\"][\"grades\"] = [85, 42, 36]\n",
        "\n",
        "print(student_data.keys())\n",
        "print(sorted(student_data.keys()))\n",
        "print(student_data[\"Kelly\"])\n",
        "\n",
        "for student in student_data:\n",
        "  print(student, student_data[student])\n",
        "\n",
        "for i, j in student_data.items():\n",
        "  print(i, j)"
      ],
      "execution_count": null,
      "outputs": []
    },
    {
      "cell_type": "code",
      "metadata": {
        "id": "QjtmjsdpZoky"
      },
      "source": [
        "# files\n",
        "from google.colab import files\n",
        "uploaded = files.upload()"
      ],
      "execution_count": null,
      "outputs": []
    },
    {
      "cell_type": "code",
      "metadata": {
        "id": "9e6PQfirZ1b7"
      },
      "source": [
        "# NVData = open(\"NV_Cities.txt\", r)\n",
        "# city_names = []\n",
        "# for line in NVData:\n",
        "#   line = line.strip()\n",
        "#   line = line.split()\n",
        "#   city_names.append(line[0])\n",
        "\n",
        "# print(city_names)\n",
        "# NVData.close()\n",
        "\n",
        "fout = open(\"numbers.txt\", 'w')\n",
        "\n",
        "for i in range(10):\n",
        "  fout.write(str(i)  + \"\\n\")\n",
        "\n",
        "fout.close()\n",
        "\n",
        "fin = open(\"numbers.txt\", 'r')\n",
        "for line in fin:\n",
        "  line = line.strip()\n",
        "  print(line)\n",
        "fin.close()\n",
        "\n",
        "import os\n",
        "os.listdir('.')"
      ],
      "execution_count": null,
      "outputs": []
    },
    {
      "cell_type": "code",
      "metadata": {
        "id": "auiYGEWecPd2"
      },
      "source": [
        "# numpy\n",
        "import numpy as np\n",
        "A = np.array([[1, 2], [3, 4]])\n",
        "print(A)\n",
        "B = np.array([[10, 20], [30, 40]])\n",
        "print(B)\n",
        "\n",
        "print(A+B)\n",
        "print(A*B)\n",
        "print(np.dot(A, B))\n",
        "\n"
      ],
      "execution_count": null,
      "outputs": []
    },
    {
      "cell_type": "code",
      "metadata": {
        "id": "-kL-9BpOdIlh"
      },
      "source": [
        "# plot!\n",
        "import matplotlib.pyplot as plt\n",
        "\n",
        "plt.plot([1, 2, 3, 4], [1, 4, 9, 16], 'ro') # specify the color and the plot marks\n",
        "plt.xlabel(\"x\")\n",
        "plt.ylabel(\"y\")\n",
        "plt.show()"
      ],
      "execution_count": null,
      "outputs": []
    },
    {
      "cell_type": "code",
      "metadata": {
        "id": "KtTO6RhQeABT"
      },
      "source": [
        "import matplotlib.pyplot as plt\n",
        "import numpy as np\n",
        "\n",
        "t = np.arange(0, 5, 0.2)\n",
        "print(t)\n",
        "plt.plot(t, t**2, 'g-')\n",
        "plt.plot(t, t**3, 'ro')\n",
        "plt.title(\"t^2 and t^3 plot\")\n",
        "plt.show()"
      ],
      "execution_count": null,
      "outputs": []
    },
    {
      "cell_type": "code",
      "metadata": {
        "id": "cSoHIsNSeGfK"
      },
      "source": [
        "pip install census"
      ],
      "execution_count": null,
      "outputs": []
    },
    {
      "cell_type": "code",
      "metadata": {
        "id": "npXkyRhPflVu"
      },
      "source": [
        "from census import Census"
      ],
      "execution_count": null,
      "outputs": []
    },
    {
      "cell_type": "code",
      "metadata": {
        "id": "xA2IcRCAgUag"
      },
      "source": [
        "# excel saves as csv files\n",
        "import csv\n",
        "csvfile = open(\"Others_Cities.csv\", 'w', newline='')\n",
        "csvwriter = csv.writer(csvfile, delimiter = ',')\n",
        "csvwriter.writerow([\"City\", \"x\", \"y\", \"Population\"])\n",
        "csvwriter.writerow([\"Reno\", -119.81, 39.51, 248853])\n",
        "csvwriter.writerow([\"Sparks\", -119.75, 39.53, 100888])\n",
        "csvfile.close()\n",
        "\n",
        "csvfile = open(\"Others_Cities.csv\", 'r')\n",
        "csvreader = csv.reader(csvfile)\n",
        "for line in csvreader:\n",
        "  print(line)\n",
        "csvfile.close()"
      ],
      "execution_count": null,
      "outputs": []
    }
  ]
}